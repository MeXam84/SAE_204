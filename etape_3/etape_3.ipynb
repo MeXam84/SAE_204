{
 "cells": [
  {
   "cell_type": "markdown",
   "id": "9951fd00-ad06-4b22-9219-a2c1c272ea91",
   "metadata": {},
   "source": [
    "# Etape 3"
   ]
  },
  {
   "cell_type": "code",
   "execution_count": null,
   "id": "77ec3655-5faa-4d2d-ac02-25950836c8c5",
   "metadata": {},
   "outputs": [],
   "source": [
    "#Pour ouvrir un fichier en python, on utilise la fonction open()\n",
    "#On peut ouvrir un fichier en mode read (r), write (w), ajout (a), \n",
    "#écriture seulement (x), binaire (b), ouverture en mode texte (t)\n",
    "text = open(\"Étape 3/text.txt\", \"rt\")\n",
    "\n",
    "#Pour lire le contenu d'un fichier, on utilise la méthode read()\n",
    "print(\"Voici ce que contient le fichier 'text.txt':\")\n",
    "print(text.read())\n",
    "#Pour fermer un fichier, on utilise la méthode close()\n",
    "text.close()"
   ]
  },
  {
   "cell_type": "code",
   "execution_count": null,
   "id": "ee05cf10-087e-4fe4-931b-33c4130491f5",
   "metadata": {},
   "outputs": [],
   "source": [
    "text = open(\"Étape 3/text.txt\", \"rt\")\n",
    "ligne1 = text.readline()\n",
    "#Pour lire le contenu d'un fichier ligne par ligne, on utilise la méthode readline()\n",
    "print(\"\\n Voici le contenu du fichier 'text.txt' ligne 1 :\")\n",
    "print(ligne1)\n",
    "\n",
    "#Pour lire le contenu du fichier en binaire, on utilise le mode binaire (b)\n",
    "fichier = open(\"Étape 3/text.txt\", \"rb\")\n",
    "text= fichier.readlines()\n",
    "\n",
    "print(\"\\n Voici les 5 premierère ligne du fichier 'text.txt' en binaire :\")\n",
    "print(text[0:5])"
   ]
  },
  {
   "cell_type": "code",
   "execution_count": null,
   "id": "ba68c77a-be66-4bba-a7f7-0b6bc1579d08",
   "metadata": {},
   "outputs": [],
   "source": [
    "#Pour écrire dans un fichier, on utilise le mode write (w), écriture seulement (x), ajout (a)\n",
    "#Ouvre le fichier en mode ajout (a) et texte (t)\n",
    "fichier = open(\"Étape 3/text.txt\", \"at\")\n",
    "\n",
    "#Écrit dans le fichier grâce à .write()\n",
    "fichier.write('\\n\"Got it memorized ?\"')\n",
    "\n",
    "#Ouvre le fichier en mode lecture (r) et texte (t)\n",
    "fichier = open(\"Étape 3/text.txt\", \"rt\")\n",
    "text = fichier.read()\n",
    "print(\"\\n Voici le contenu du fichier 'text.txt' après ajout :\")\n",
    "print(text)\n",
    "#Fermer la variable ou le fichier est ouvert\n",
    "fichier.close()"
   ]
  }
 ],
 "metadata": {
  "kernelspec": {
   "display_name": "Python [conda env:base] *",
   "language": "python",
   "name": "conda-base-py"
  },
  "language_info": {
   "codemirror_mode": {
    "name": "ipython",
    "version": 3
   },
   "file_extension": ".py",
   "mimetype": "text/x-python",
   "name": "python",
   "nbconvert_exporter": "python",
   "pygments_lexer": "ipython3",
   "version": "3.12.7"
  }
 },
 "nbformat": 4,
 "nbformat_minor": 5
}
