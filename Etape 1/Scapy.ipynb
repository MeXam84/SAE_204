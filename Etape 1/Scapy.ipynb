{
 "cells": [
  {
   "cell_type": "markdown",
   "id": "1e98b81d-8ba7-41a2-b0ca-b97fb4eb0457",
   "metadata": {},
   "source": [
    "# Projet Scapy"
   ]
  },
  {
   "cell_type": "markdown",
   "id": "c4003867-c808-470c-9671-05a6a0a2e9d8",
   "metadata": {},
   "source": [
    "## 1. Initiation à Scapy"
   ]
  },
  {
   "cell_type": "markdown",
   "id": "40152f73-1cd4-4460-869a-e7d1bc827a38",
   "metadata": {},
   "source": [
    "On importe le module scapy et on vérifie son fonctionnement a l'aide de quelque **print()**."
   ]
  },
  {
   "cell_type": "code",
   "execution_count": 3,
   "id": "1101a523-f0e2-4b68-ab8b-7bbd51665ad9",
   "metadata": {},
   "outputs": [
    {
     "name": "stdout",
     "output_type": "stream",
     "text": [
      "La version de Scapy est 2.6.1.\n",
      "\n",
      "L'interface par défaut utilisée pour l'émission et la réception des paquets est \\Device\\NPF_{3D7B1027-8CC4-4D67-88E6-0F92F60DFA95}.\n",
      "\n",
      "La table de routage utilisée est : \n",
      " Network          Netmask          Gateway      Iface                                           Output IP        Metric\n",
      "0.0.0.0          0.0.0.0          192.168.1.1  Realtek 8822CE Wireless LAN 802.11ac PCI-E NIC  192.168.1.13     35    \n",
      "127.0.0.0        255.0.0.0        0.0.0.0      Software Loopback Interface 1                   127.0.0.1        331   \n",
      "127.0.0.1        255.255.255.255  0.0.0.0      Software Loopback Interface 1                   127.0.0.1        331   \n",
      "127.255.255.255  255.255.255.255  0.0.0.0      Software Loopback Interface 1                   127.0.0.1        331   \n",
      "192.168.1.0      255.255.255.0    0.0.0.0      Realtek 8822CE Wireless LAN 802.11ac PCI-E NIC  192.168.1.13     291   \n",
      "192.168.1.13     255.255.255.255  0.0.0.0      Realtek 8822CE Wireless LAN 802.11ac PCI-E NIC  192.168.1.13     291   \n",
      "192.168.1.255    255.255.255.255  0.0.0.0      Realtek 8822CE Wireless LAN 802.11ac PCI-E NIC  192.168.1.13     291   \n",
      "192.168.56.0     255.255.255.0    0.0.0.0      VirtualBox Host-Only Ethernet Adapter           192.168.56.1     281   \n",
      "192.168.56.1     255.255.255.255  0.0.0.0      VirtualBox Host-Only Ethernet Adapter           192.168.56.1     281   \n",
      "192.168.56.255   255.255.255.255  0.0.0.0      VirtualBox Host-Only Ethernet Adapter           192.168.56.1     281   \n",
      "224.0.0.0        240.0.0.0        0.0.0.0      Software Loopback Interface 1                   127.0.0.1        331   \n",
      "224.0.0.0        240.0.0.0        0.0.0.0      VirtualBox Host-Only Ethernet Adapter           192.168.56.1     281   \n",
      "224.0.0.0        240.0.0.0        0.0.0.0      Realtek PCIe GbE Family Controller              169.254.17.246   331   \n",
      "224.0.0.0        240.0.0.0        0.0.0.0      Realtek 8822CE Wireless LAN 802.11ac PCI-E NIC  192.168.1.13     291   \n",
      "224.0.0.0        240.0.0.0        0.0.0.0      Microsoft Wi-Fi Direct Virtual Adapter          169.254.24.156   281   \n",
      "224.0.0.0        240.0.0.0        0.0.0.0      Microsoft Wi-Fi Direct Virtual Adapter #2       169.254.252.198  281   \n",
      "255.255.255.255  255.255.255.255  0.0.0.0      Software Loopback Interface 1                   127.0.0.1        331   \n",
      "255.255.255.255  255.255.255.255  0.0.0.0      VirtualBox Host-Only Ethernet Adapter           192.168.56.1     281   \n",
      "255.255.255.255  255.255.255.255  0.0.0.0      Realtek PCIe GbE Family Controller              169.254.17.246   331   \n",
      "255.255.255.255  255.255.255.255  0.0.0.0      Realtek 8822CE Wireless LAN 802.11ac PCI-E NIC  192.168.1.13     291   \n",
      "255.255.255.255  255.255.255.255  0.0.0.0      Microsoft Wi-Fi Direct Virtual Adapter          169.254.24.156   281   \n",
      "255.255.255.255  255.255.255.255  0.0.0.0      Microsoft Wi-Fi Direct Virtual Adapter #2       169.254.252.198  281   .\n",
      "\n",
      "La passerelle par défaut est : 192.168.1.1\n"
     ]
    }
   ],
   "source": [
    "from scapy.all import *\n",
    "print(f\"La version de Scapy est {conf.version}.\")\n",
    "print(f\"\\nL'interface par défaut utilisée pour l'émission et la réception des paquets est {conf.iface}.\")\n",
    "print(f\"\\nLa table de routage utilisée est : \\n {conf.route}.\")\n",
    "print('\\nLa passerelle par défaut est :', conf.route.route(\"0.0.0.0\")[2])"
   ]
  },
  {
   "cell_type": "markdown",
   "id": "c7c82a79-7265-4923-82a6-aff8e61d3401",
   "metadata": {},
   "source": [
    "> Le module est correctement installer, on importe alors le fichier *.pcap* qui correspond au trames d'un **ping vers google** (8.8.8.8)."
   ]
  },
  {
   "cell_type": "code",
   "execution_count": 12,
   "id": "9f81d886-46e7-446e-810d-aac9c0af665a",
   "metadata": {},
   "outputs": [
    {
     "name": "stdout",
     "output_type": "stream",
     "text": [
      "Le fichier contient les trames suivante :\n",
      "Ether / IP / ICMP 192.168.1.48 > 8.8.8.8 echo-request 0 / Raw\n",
      "Ether / IP / ICMP 8.8.8.8 > 192.168.1.48 echo-reply 0 / Raw\n",
      "Ether / IP / ICMP 192.168.1.48 > 8.8.8.8 echo-request 0 / Raw\n",
      "Ether / IP / ICMP 8.8.8.8 > 192.168.1.48 echo-reply 0 / Raw\n"
     ]
    }
   ],
   "source": [
    "trames = rdpcap(\"Ping_Google.pcapng\")\n",
    "print(\"Le fichier contient les trames suivante :\")\n",
    "trames.summary()"
   ]
  },
  {
   "cell_type": "markdown",
   "id": "fdf82e9f-cf9f-48de-a853-c20c7c197d0e",
   "metadata": {},
   "source": [
    "Avec quelque description (fonctionne comme un dictionaire python) on peut retrouver la data émissent par notre paquet et aussi le décodé"
   ]
  },
  {
   "cell_type": "code",
   "execution_count": 14,
   "id": "b92e812d-c18b-4718-abf6-a61855ced4b4",
   "metadata": {},
   "outputs": [
    {
     "data": {
      "text/plain": [
       "'!\"#$%&\\'()*+,-./01234567'"
      ]
     },
     "execution_count": 14,
     "metadata": {},
     "output_type": "execute_result"
    }
   ],
   "source": [
    "#On recherche ici dans la trames 3 (écrit 2 car fonctionnement des dictionnaire python) la 3 ligne de la data que l'on décode en \"UTF-8\"\n",
    "trames[2][Raw].load.split(sep=None)[2].decode('UTF8')"
   ]
  },
  {
   "cell_type": "markdown",
   "id": "d592f237-1eab-4bac-a954-03afccdc9944",
   "metadata": {},
   "source": [
    "## Emission de trames"
   ]
  },
  {
   "cell_type": "markdown",
   "id": "a9eacfdf-cea7-4493-8164-7ecb1c41aae5",
   "metadata": {},
   "source": [
    "Le code ci-dessous permet d'emettre un paquet *ICMP* vers ici la destination 192.168.1.1."
   ]
  },
  {
   "cell_type": "code",
   "execution_count": 13,
   "id": "a23f1bd8-f32e-44d2-a8b7-71f4cc16d442",
   "metadata": {},
   "outputs": [
    {
     "name": "stdout",
     "output_type": "stream",
     "text": [
      "\n",
      "Sent 1 packets.\n"
     ]
    }
   ],
   "source": [
    "ping=IP(dst='192.168.1.1')/ICMP()/\"On peut ajouter ici des données à émettre avec le ping\"\n",
    "send(ping)"
   ]
  },
  {
   "cell_type": "markdown",
   "id": "e9678bf6-9449-40a7-af2f-2334d468fb86",
   "metadata": {},
   "source": [
    " * En regardant sur Wireshark on voit bien que notre packet a été emis :\n",
    "\n",
    "<img src=\"etape_1.png\">"
   ]
  },
  {
   "cell_type": "markdown",
   "id": "55b1c7f1-962f-47c8-a79e-a7d50852edba",
   "metadata": {},
   "source": [
    "## Création d'un programme \"Sniffer\""
   ]
  },
  {
   "cell_type": "markdown",
   "id": "d64ce0d2-7c76-4b9e-a646-a4a083c1a07e",
   "metadata": {},
   "source": [
    "Le but d'un programme Siffer est de récupérée les trames émissent ou reçu par la machine (à la manière de Wireshark)"
   ]
  },
  {
   "cell_type": "markdown",
   "id": "21ec55df-91dc-464b-9e26-83ef15a02b35",
   "metadata": {},
   "source": [
    " * Ici, Il récupère les emission et réception de paquet icmp comme ici dans un échange entre la machine et la passerelle (192.168.1.1)"
   ]
  },
  {
   "cell_type": "code",
   "execution_count": 3,
   "id": "ca06289e-131c-41d5-bd0e-40d781554018",
   "metadata": {},
   "outputs": [
    {
     "name": "stdout",
     "output_type": "stream",
     "text": [
      "Emission d'un paquet ICMP Echo vers 8.8.8.8\n",
      "Emission d'un paquet ICMP Echo vers 8.8.8.8\n",
      "Emission d'un paquet ICMP Echo vers 8.8.8.8\n",
      "Emission d'un paquet ICMP Echo vers 8.1.8.8\n"
     ]
    },
    {
     "data": {
      "text/plain": [
       "<Sniffed: TCP:0 UDP:0 ICMP:0 Other:0>"
      ]
     },
     "execution_count": 3,
     "metadata": {},
     "output_type": "execute_result"
    }
   ],
   "source": [
    "from scapy.all import *\n",
    "ICMP_types={ 0 : 'Echo-Reply', 3 : 'Destination Unreachable', 8 : 'Echo'}\n",
    "def print_icmp (packet) :\n",
    "    type=packet[ICMP].type\n",
    "    ips=packet[IP].src\n",
    "    ipd=packet[IP].dst\n",
    "    if ips==iface_ip :\n",
    "        print(f\"Emission d'un paquet ICMP {ICMP_types[type]} vers {ipd}\")\n",
    "    else :\n",
    "        print(f\"Réception d'un paquet ICMP {ICMP_types[type]} en provenance de {ips}\")\n",
    "iface_ip=get_if_addr(conf.iface)\n",
    "sniff(filter=\"icmp\", prn=print_icmp, store=0, iface='Wi-Fi',count=4)"
   ]
  },
  {
   "cell_type": "code",
   "execution_count": null,
   "id": "37a03d70-beab-4308-9f60-a10950f0aad3",
   "metadata": {},
   "outputs": [],
   "source": []
  }
 ],
 "metadata": {
  "kernelspec": {
   "display_name": "Python [conda env:base] *",
   "language": "python",
   "name": "conda-base-py"
  },
  "language_info": {
   "codemirror_mode": {
    "name": "ipython",
    "version": 3
   },
   "file_extension": ".py",
   "mimetype": "text/x-python",
   "name": "python",
   "nbconvert_exporter": "python",
   "pygments_lexer": "ipython3",
   "version": "3.12.7"
  }
 },
 "nbformat": 4,
 "nbformat_minor": 5
}
